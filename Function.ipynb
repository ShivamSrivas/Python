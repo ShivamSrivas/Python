{
 "cells": [
  {
   "cell_type": "code",
   "execution_count": 15,
   "id": "a677afed",
   "metadata": {},
   "outputs": [],
   "source": [
    "def fun(*args):\n",
    "    for i in args:\n",
    "        print(i,end='\\n')"
   ]
  },
  {
   "cell_type": "code",
   "execution_count": 8,
   "id": "5a465570",
   "metadata": {},
   "outputs": [],
   "source": [
    "#Data types of *args is tuple\n",
    "#name can be anything star is important"
   ]
  },
  {
   "cell_type": "code",
   "execution_count": 16,
   "id": "29958d95",
   "metadata": {},
   "outputs": [
    {
     "name": "stdout",
     "output_type": "stream",
     "text": [
      "shivam\n",
      "srivastava\n",
      "Ramesh\n",
      "Srivastava\n"
     ]
    }
   ],
   "source": [
    "fun(\"shivam\",\"srivastava\",\"Ramesh\",\"Srivastava\")"
   ]
  },
  {
   "cell_type": "code",
   "execution_count": 17,
   "id": "4d0b924f",
   "metadata": {},
   "outputs": [],
   "source": [
    "def fun(*args):\n",
    "    print(\"He is a good\",args[0],\"He is a not a good boys\",args[1])"
   ]
  },
  {
   "cell_type": "code",
   "execution_count": 18,
   "id": "1296b13d",
   "metadata": {},
   "outputs": [
    {
     "name": "stdout",
     "output_type": "stream",
     "text": [
      "He is a good Shivam He is a not a good boys Srivastava\n"
     ]
    }
   ],
   "source": [
    "fun(\"Shivam\",\"Srivastava\")"
   ]
  },
  {
   "cell_type": "code",
   "execution_count": 65,
   "id": "1440a75f",
   "metadata": {},
   "outputs": [],
   "source": [
    "def dic(**kwargs):\n",
    "    for i in kwargs:\n",
    "        print(i,\"is a good scoring\",kwargs[i])\n",
    "    \"\"\" this function help us to understand\n",
    "    \"\"\"\n",
    "        "
   ]
  },
  {
   "cell_type": "code",
   "execution_count": 61,
   "id": "03dc9b2c",
   "metadata": {},
   "outputs": [],
   "source": [
    "kwargs={\"aaa\":45,\"ahev\":909,\"jabjf\":89}\n"
   ]
  },
  {
   "cell_type": "code",
   "execution_count": 64,
   "id": "2c379be6",
   "metadata": {},
   "outputs": [
    {
     "name": "stdout",
     "output_type": "stream",
     "text": [
      "Digital_Image_Processing is a good scoring 78\n",
      "Microprocessor is a good scoring 79\n",
      "Signals_and_systems is a good scoring 83\n"
     ]
    }
   ],
   "source": [
    "fun(Digital_Image_Processing = 78, Microprocessor= 79, Signals_and_systems=83)"
   ]
  },
  {
   "cell_type": "code",
   "execution_count": 2,
   "id": "77643af8",
   "metadata": {},
   "outputs": [],
   "source": [
    "minus=lambda x,y:x-y\n"
   ]
  },
  {
   "cell_type": "code",
   "execution_count": 3,
   "id": "28467db5",
   "metadata": {},
   "outputs": [
    {
     "data": {
      "text/plain": [
       "1"
      ]
     },
     "execution_count": 3,
     "metadata": {},
     "output_type": "execute_result"
    }
   ],
   "source": [
    "minus(5,4)"
   ]
  },
  {
   "cell_type": "code",
   "execution_count": 14,
   "id": "11a56339",
   "metadata": {},
   "outputs": [],
   "source": [
    "def fun(a=1,b=1):\n",
    "    return(a*b)"
   ]
  },
  {
   "cell_type": "code",
   "execution_count": 15,
   "id": "cf0db3b8",
   "metadata": {},
   "outputs": [
    {
     "data": {
      "text/plain": [
       "12"
      ]
     },
     "execution_count": 15,
     "metadata": {},
     "output_type": "execute_result"
    }
   ],
   "source": [
    "fun(3,4)"
   ]
  },
  {
   "cell_type": "code",
   "execution_count": 16,
   "id": "47f3b3fb",
   "metadata": {},
   "outputs": [],
   "source": [
    "l=[54,54,54,54,54,54,54,54,54,5,45,16,16,15,19,51,918,951,851,8,1,51,18,1,1,81,81,8,1,841,81,841,485,151,851,851,8,1,81,8,18,1,81,4,15,18,41,48,41,894,18,48,4,84,84,8,48,418,18,1,8181,8181,51,81,8,18,1,1,81,8,18,18,1,81,81,891894,841,984,84,89,498,4,894,9,49,49]"
   ]
  },
  {
   "cell_type": "code",
   "execution_count": 29,
   "id": "5f57d417",
   "metadata": {},
   "outputs": [],
   "source": [
    "def fun(l):\n",
    "    for i in l:\n",
    "        yield i"
   ]
  },
  {
   "cell_type": "code",
   "execution_count": 30,
   "id": "afd9dd83",
   "metadata": {},
   "outputs": [
    {
     "name": "stdout",
     "output_type": "stream",
     "text": [
      "54\n",
      "54\n",
      "54\n",
      "54\n",
      "54\n",
      "54\n",
      "54\n",
      "54\n",
      "54\n",
      "5\n",
      "45\n",
      "16\n",
      "16\n",
      "15\n",
      "19\n",
      "51\n",
      "918\n",
      "951\n",
      "851\n",
      "8\n",
      "1\n",
      "51\n",
      "18\n",
      "1\n",
      "1\n",
      "81\n",
      "81\n",
      "8\n",
      "1\n",
      "841\n",
      "81\n",
      "841\n",
      "485\n",
      "151\n",
      "851\n",
      "851\n",
      "8\n",
      "1\n",
      "81\n",
      "8\n",
      "18\n",
      "1\n",
      "81\n",
      "4\n",
      "15\n",
      "18\n",
      "41\n",
      "48\n",
      "41\n",
      "894\n",
      "18\n",
      "48\n",
      "4\n",
      "84\n",
      "84\n",
      "8\n",
      "48\n",
      "418\n",
      "18\n",
      "1\n",
      "8181\n",
      "8181\n",
      "51\n",
      "81\n",
      "8\n",
      "18\n",
      "1\n",
      "1\n",
      "81\n",
      "8\n",
      "18\n",
      "18\n",
      "1\n",
      "81\n",
      "81\n",
      "891894\n",
      "841\n",
      "984\n",
      "84\n",
      "89\n",
      "498\n",
      "4\n",
      "894\n",
      "9\n",
      "49\n",
      "49\n"
     ]
    }
   ],
   "source": [
    "for i in fun(l):\n",
    "    print(i)"
   ]
  },
  {
   "cell_type": "code",
   "execution_count": 25,
   "id": "f242620f",
   "metadata": {},
   "outputs": [
    {
     "ename": "NameError",
     "evalue": "name 'i' is not defined",
     "output_type": "error",
     "traceback": [
      "\u001b[1;31m---------------------------------------------------------------------------\u001b[0m",
      "\u001b[1;31mNameError\u001b[0m                                 Traceback (most recent call last)",
      "\u001b[1;32m~\\AppData\\Local\\Temp/ipykernel_7176/2216545996.py\u001b[0m in \u001b[0;36m<module>\u001b[1;34m\u001b[0m\n\u001b[1;32m----> 1\u001b[1;33m \u001b[1;32mfor\u001b[0m \u001b[0mi\u001b[0m \u001b[1;32min\u001b[0m \u001b[0mi\u001b[0m\u001b[1;33m:\u001b[0m\u001b[1;33m\u001b[0m\u001b[1;33m\u001b[0m\u001b[0m\n\u001b[0m\u001b[0;32m      2\u001b[0m     \u001b[0mprint\u001b[0m\u001b[1;33m(\u001b[0m\u001b[0mi\u001b[0m\u001b[1;33m)\u001b[0m\u001b[1;33m\u001b[0m\u001b[1;33m\u001b[0m\u001b[0m\n",
      "\u001b[1;31mNameError\u001b[0m: name 'i' is not defined"
     ]
    }
   ],
   "source": []
  },
  {
   "cell_type": "code",
   "execution_count": null,
   "id": "ca231503",
   "metadata": {},
   "outputs": [],
   "source": []
  },
  {
   "cell_type": "code",
   "execution_count": null,
   "id": "3afd8dee",
   "metadata": {},
   "outputs": [],
   "source": []
  }
 ],
 "metadata": {
  "kernelspec": {
   "display_name": "Python 3 (ipykernel)",
   "language": "python",
   "name": "python3"
  },
  "language_info": {
   "codemirror_mode": {
    "name": "ipython",
    "version": 3
   },
   "file_extension": ".py",
   "mimetype": "text/x-python",
   "name": "python",
   "nbconvert_exporter": "python",
   "pygments_lexer": "ipython3",
   "version": "3.9.7"
  }
 },
 "nbformat": 4,
 "nbformat_minor": 5
}
