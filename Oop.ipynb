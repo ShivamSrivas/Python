{
 "cells": [
  {
   "cell_type": "raw",
   "id": "eac8cd25",
   "metadata": {},
   "source": [
    "Class is the blue_print and does not have any physical properties \n",
    "class consist of the Attributes and Function \n",
    "You can access these things with the help of objects\n",
    "for ex-Student,Car,People etc\n",
    "\n",
    "Object is Instance of class,It have physical entity\n",
    "For ex-\n",
    "Ram is a good student\n",
    "Skoda is a fablous car \n",
    "here the Ram is physical entity and it is a Instance of class student\n",
    "Ram is the object and Student is a class\n",
    "\n",
    "How to declare the class in pyhton\n",
    "class(KEY WORD)--class name--:\n",
    "for ex-\n",
    "class student:\n",
    "How to declare the object in python\n",
    "Object name--=--class name--()--;\n"
   ]
  },
  {
   "cell_type": "code",
   "execution_count": 24,
   "id": "60f8f13f",
   "metadata": {},
   "outputs": [],
   "source": [
    "class student:#Declared the class\n",
    "    name =\"Sivam\"#Attributes are declared\n",
    "    Roll_no=\"123\"#Attributes are declared\n",
    "    def read(self):#Declared the function Always pass \"self\" in the class function as a first argument it's implict refrence \n",
    "        var=123\n",
    "        print(\"reading\",self.Roll_no,var)#Calling the implict member  hence using \"self.Roll_no\" and for local member we can direct use it by name"
   ]
  },
  {
   "cell_type": "code",
   "execution_count": 25,
   "id": "6f5dbe11",
   "metadata": {},
   "outputs": [],
   "source": [
    "s1=student()#Declared the object"
   ]
  },
  {
   "cell_type": "code",
   "execution_count": 27,
   "id": "4d5b0499",
   "metadata": {},
   "outputs": [
    {
     "name": "stdout",
     "output_type": "stream",
     "text": [
      "reading 123 123\n"
     ]
    }
   ],
   "source": [
    "s1.read()#calling the function of the class through Objects"
   ]
  },
  {
   "cell_type": "raw",
   "id": "51449f23",
   "metadata": {},
   "source": [
    "#Inheritance \n",
    "In this we have Base class and Another child class which is accessing the properties of Base class\n",
    "There are mainly four types of Inheritance\n",
    "1.Single\n",
    "2.Multi-level\n",
    "3.Multiple "
   ]
  },
  {
   "cell_type": "code",
   "execution_count": 31,
   "id": "26540286",
   "metadata": {},
   "outputs": [],
   "source": [
    "class student:#Base class\n",
    "    def Hello(self):\n",
    "        print(\"hello\")\n",
    "        \n",
    "    \n",
    "class Ram(student):#Inherting the class\n",
    "    def Bye(self):\n",
    "        print(\"bye\")\n",
    "    #Example of Single Inheritance"
   ]
  },
  {
   "cell_type": "code",
   "execution_count": 33,
   "id": "d57665a1",
   "metadata": {},
   "outputs": [],
   "source": [
    "Ram1=Ram()#Creating the object of Child class"
   ]
  },
  {
   "cell_type": "code",
   "execution_count": 40,
   "id": "a8b3b91d",
   "metadata": {},
   "outputs": [],
   "source": [
    "class Father:\n",
    "    def hair(self):\n",
    "        print(\"My hair is in you\")\n",
    "        \n",
    "class Mother:\n",
    "    def Eye(self):\n",
    "        print(\"My eye's is in you\")\n",
    "        \n",
    "class Child(Father,Mother):#Multiple Inheritance\n",
    "    def ok(self):\n",
    "        print(\"ok i am using both of them\")\n",
    "        "
   ]
  },
  {
   "cell_type": "code",
   "execution_count": 43,
   "id": "4457ddaa",
   "metadata": {},
   "outputs": [
    {
     "name": "stdout",
     "output_type": "stream",
     "text": [
      "My eye's is in you\n",
      "My hair is in you\n",
      "ok i am using both of them\n"
     ]
    }
   ],
   "source": [
    "child1=Child()\n",
    "child1.Eye()\n",
    "child1.hair()\n",
    "child1.ok()"
   ]
  },
  {
   "cell_type": "code",
   "execution_count": 44,
   "id": "7ae9299b",
   "metadata": {},
   "outputs": [],
   "source": [
    "class GrandFather:\n",
    "    def Eyes(self):\n",
    "        print(\"I am giving eyes to you\")\n",
    "        \n",
    "class Father(GrandFather):\n",
    "    def Hair(self):\n",
    "        print(\"I am giving hair to you\")\n",
    "        \n",
    "class Child(Father):\n",
    "    def ok(self):\n",
    "        print(\"Ok\")\n",
    "    #Multiple-level Inheritance"
   ]
  },
  {
   "cell_type": "code",
   "execution_count": 46,
   "id": "192c446a",
   "metadata": {},
   "outputs": [
    {
     "name": "stdout",
     "output_type": "stream",
     "text": [
      "I am giving eyes to you\n",
      "I am giving hair to you\n",
      "Ok\n"
     ]
    }
   ],
   "source": [
    "child1=Child()\n",
    "child1.Eyes()\n",
    "child1.Hair()\n",
    "child1.ok()"
   ]
  },
  {
   "cell_type": "raw",
   "id": "9720a9b6",
   "metadata": {},
   "source": [
    "#Encapsulation\n",
    "In this we bind the function and attribute of class with the help of Access  modifier \n",
    "public:-by default it is public and it can access by any function in any class\n",
    "private:-We can't access declared attributes and function outside of the class \n",
    "protected:-Access by the classs and Inherited class"
   ]
  },
  {
   "cell_type": "code",
   "execution_count": 49,
   "id": "2a9c369b",
   "metadata": {},
   "outputs": [],
   "source": [
    "class Student:\n",
    "    a=\"sh\"\n",
    "    __a=123#Declared the private variable\n",
    "    def __method(self):#Declared the private Method\n",
    "        print(\"Hello\")\n",
    "        \n",
    "        "
   ]
  },
  {
   "cell_type": "code",
   "execution_count": 2,
   "id": "d54525d5",
   "metadata": {},
   "outputs": [
    {
     "ename": "NameError",
     "evalue": "name 'Student' is not defined",
     "output_type": "error",
     "traceback": [
      "\u001b[1;31m---------------------------------------------------------------------------\u001b[0m",
      "\u001b[1;31mNameError\u001b[0m                                 Traceback (most recent call last)",
      "\u001b[1;32m~\\AppData\\Local\\Temp/ipykernel_6980/430875503.py\u001b[0m in \u001b[0;36m<module>\u001b[1;34m\u001b[0m\n\u001b[1;32m----> 1\u001b[1;33m \u001b[0ms1\u001b[0m\u001b[1;33m=\u001b[0m\u001b[0mStudent\u001b[0m\u001b[1;33m(\u001b[0m\u001b[1;33m)\u001b[0m\u001b[1;33m\u001b[0m\u001b[1;33m\u001b[0m\u001b[0m\n\u001b[0m\u001b[0;32m      2\u001b[0m \u001b[0ms1\u001b[0m\u001b[1;33m.\u001b[0m\u001b[0mmethod\u001b[0m\u001b[1;31m#See we cant access private var outside of class\u001b[0m\u001b[1;33m\u001b[0m\u001b[1;33m\u001b[0m\u001b[0m\n",
      "\u001b[1;31mNameError\u001b[0m: name 'Student' is not defined"
     ]
    }
   ],
   "source": [
    "s1=Student()\n",
    "s1.method#See we cant access private var outside of class"
   ]
  },
  {
   "cell_type": "code",
   "execution_count": 58,
   "id": "a1842409",
   "metadata": {},
   "outputs": [],
   "source": [
    "class Students:\n",
    "    a=\"sh\"\n",
    "    __a=123#Declared the private variable\n",
    "    def method(self):#Declared the private Method\n",
    "        print(\"Hello\",self.__a)"
   ]
  },
  {
   "cell_type": "code",
   "execution_count": 59,
   "id": "86fd01d2",
   "metadata": {},
   "outputs": [
    {
     "name": "stdout",
     "output_type": "stream",
     "text": [
      "Hello 123\n"
     ]
    }
   ],
   "source": [
    "s1=Students()\n",
    "s1.method()"
   ]
  },
  {
   "cell_type": "raw",
   "id": "525ba3cf",
   "metadata": {},
   "source": [
    "#Abstarction\n",
    "Hiding the implementation\n",
    "Shownig the relevant part to user\n",
    "Abstract class are those class which have Abstract methods in it\n",
    "To declare the Abstract class you have to import ABC and for abstract method import abstractmethod from abc\n",
    "Abstract Method are those which is just declared in the base class and define in the child class\n",
    "Class without Abstract method are called Concrete class\n",
    "Object can\"t be create in Abstract class \n",
    "Object are only create for the concrete class\n",
    "You have to use decorate for the Abstract methods @abtract methods\n",
    "All the methods declared in the base class should be define in the child  class if not then\n",
    "the child will always behave like abstract class"
   ]
  },
  {
   "cell_type": "code",
   "execution_count": 4,
   "id": "da96fd3d",
   "metadata": {},
   "outputs": [],
   "source": [
    "from abc import ABC,abstractmethod\n",
    "class Demno(ABC):\n",
    "    @abstractmethod#Decorator\n",
    "    def Hello(self):\n",
    "        none\n",
    "class ME(ABC):\n",
    "    def Hello(self):\n",
    "        print(\"Hello\")\n"
   ]
  },
  {
   "cell_type": "code",
   "execution_count": 5,
   "id": "ac747625",
   "metadata": {},
   "outputs": [],
   "source": [
    "obj=ME()"
   ]
  },
  {
   "cell_type": "code",
   "execution_count": 6,
   "id": "e26ae0c2",
   "metadata": {},
   "outputs": [
    {
     "name": "stdout",
     "output_type": "stream",
     "text": [
      "Hello\n"
     ]
    }
   ],
   "source": [
    "obj.Hello()"
   ]
  },
  {
   "cell_type": "raw",
   "id": "bb535239",
   "metadata": {},
   "source": [
    "Polymorphism\n",
    "Implementing Same things in different way's\n",
    "There are two ways you can achieve polymorphism\n",
    "1.Method overloading,Operator overloading it is also know as compile time polymorphism/Static polymorphism aslo\n",
    "2.Method overriding also know as run time polymorphism/Dynamic type polymorphism\n",
    "\n",
    "For Methodoverloading\n",
    "These criteria should be fullfil\n",
    "Methods should be in same class\n",
    "Methods Name should be same\n",
    "There must be different Parameters\n",
    "\n",
    "For Operatoroverloading\n",
    "Take example of \"+\"\n",
    "in string this works to concatinate \n",
    "in int this works as addittion\n",
    "\n",
    "For Methodverriding \n",
    "These criteria should be fullfil\n",
    "Methods should be in different class \n",
    "Methods Name should be same\n",
    "Same Parameters should be given\n"
   ]
  },
  {
   "cell_type": "code",
   "execution_count": 36,
   "id": "305c4819",
   "metadata": {},
   "outputs": [],
   "source": [
    "#METHOD OVERLOADING\n",
    "class Morl:\n",
    "    def display(self,a=None,b=None):\n",
    "        if b is None:\n",
    "            print(\"hi\")\n",
    "        print(\"Hello\")\n",
    "    def display(self,a):\n",
    "        print(\"Bye\")\n",
    "    "
   ]
  },
  {
   "cell_type": "code",
   "execution_count": 37,
   "id": "5acb7946",
   "metadata": {},
   "outputs": [],
   "source": [
    "obj=Morl()"
   ]
  },
  {
   "cell_type": "code",
   "execution_count": 38,
   "id": "8e753b8d",
   "metadata": {},
   "outputs": [
    {
     "name": "stdout",
     "output_type": "stream",
     "text": [
      "Bye\n"
     ]
    }
   ],
   "source": [
    "obj.display(7)"
   ]
  },
  {
   "cell_type": "code",
   "execution_count": 63,
   "id": "ccb01655",
   "metadata": {},
   "outputs": [],
   "source": [
    "class test:\n",
    "    def t(self,a=None,b=None):\n",
    "        print(\"helllo\")\n",
    "        if b is not None:\n",
    "            print(a*b)"
   ]
  },
  {
   "cell_type": "code",
   "execution_count": 64,
   "id": "cab1f702",
   "metadata": {},
   "outputs": [],
   "source": [
    "obj=test()"
   ]
  },
  {
   "cell_type": "code",
   "execution_count": 66,
   "id": "c8224519",
   "metadata": {},
   "outputs": [
    {
     "name": "stdout",
     "output_type": "stream",
     "text": [
      "helllo\n",
      "20\n"
     ]
    }
   ],
   "source": [
    "obj.t(4,5)"
   ]
  },
  {
   "cell_type": "code",
   "execution_count": 73,
   "id": "05adb230",
   "metadata": {},
   "outputs": [],
   "source": [
    "#Method overriding\n",
    "class Ovr:\n",
    "    def Ovr1(self,a):\n",
    "        print(\"hello\")\n",
    "class child(Ovr):\n",
    "    def Ovr1(self,a):\n",
    "        print(\"Bye\")\n",
    "obj=child()\n"
   ]
  },
  {
   "cell_type": "code",
   "execution_count": 74,
   "id": "391f39f1",
   "metadata": {},
   "outputs": [
    {
     "name": "stdout",
     "output_type": "stream",
     "text": [
      "Bye\n"
     ]
    }
   ],
   "source": [
    "obj.Ovr1(4)"
   ]
  },
  {
   "cell_type": "code",
   "execution_count": null,
   "id": "fa299f6d",
   "metadata": {},
   "outputs": [],
   "source": []
  }
 ],
 "metadata": {
  "kernelspec": {
   "display_name": "Python 3 (ipykernel)",
   "language": "python",
   "name": "python3"
  },
  "language_info": {
   "codemirror_mode": {
    "name": "ipython",
    "version": 3
   },
   "file_extension": ".py",
   "mimetype": "text/x-python",
   "name": "python",
   "nbconvert_exporter": "python",
   "pygments_lexer": "ipython3",
   "version": "3.9.7"
  }
 },
 "nbformat": 4,
 "nbformat_minor": 5
}
